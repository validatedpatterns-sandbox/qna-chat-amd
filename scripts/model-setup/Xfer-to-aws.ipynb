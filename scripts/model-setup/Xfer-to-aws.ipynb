{
 "cells": [
  {
   "cell_type": "markdown",
   "id": "e09c673d",
   "metadata": {},
   "source": [
    "# Transferring files to AWS S3"
   ]
  },
  {
   "cell_type": "markdown",
   "id": "19aac13c",
   "metadata": {},
   "source": [
    "This notebook contains code to transfer files/directories to AWS S3."
   ]
  },
  {
   "cell_type": "markdown",
   "id": "d0ee02dd",
   "metadata": {},
   "source": [
    "First, we import the classes and libraries we need to run the notebook."
   ]
  },
  {
   "cell_type": "code",
   "execution_count": 2,
   "id": "00860e40",
   "metadata": {
    "tags": []
   },
   "outputs": [],
   "source": [
    "\n",
    "!pip install -q typing boto3 botocore"
   ]
  },
  {
   "cell_type": "markdown",
   "id": "d10005ef",
   "metadata": {},
   "source": [
    "Now we define all the methods required to perform the transfer. "
   ]
  },
  {
   "cell_type": "code",
   "execution_count": 17,
   "id": "2cd07a7e-d460-4c14-8f36-3db305e136c8",
   "metadata": {
    "tags": []
   },
   "outputs": [],
   "source": [
    "from typing import NamedTuple\n",
    "import os\n",
    "import pathlib\n",
    "import boto3\n",
    "import botocore\n",
    "\n",
    "class S3Env(NamedTuple):\n",
    "  access_key_id: str\n",
    "  secret_access_key: str\n",
    "  s3_endpoint: str\n",
    "  bucket_name: str\n",
    "  default_region: str\n",
    "  client: boto3.resource\n",
    "\n",
    "class BucketMeta(NamedTuple):\n",
    "  client: boto3.resource = None\n",
    "  bucket_name: str = None\n",
    "  bucket: any = None\n",
    "  prefix: str = \"\"\n",
    "  model_data_dir: str = None\n",
    "  file_name: str = None\n",
    "  object_name: str = None\n",
    "  exclude_dirs_set: set[str] = None\n",
    "  exclude_files_set: set[str] = None"
   ]
  },
  {
   "cell_type": "code",
   "execution_count": 18,
   "id": "a03201d2-fbd4-41f8-87b3-d1daa26eef0f",
   "metadata": {
    "tags": []
   },
   "outputs": [],
   "source": [
    "def getDefaultRegion() -> str:\n",
    "  return os.environ.get('AWS_DEFAULT_REGION')\n",
    "\n",
    "def init() -> S3Env:\n",
    "  access_key_id = os.environ.get('AWS_ACCESS_KEY_ID')\n",
    "  secret_access_key = os.environ.get('AWS_SECRET_ACCESS_KEY')\n",
    "  default_region = getDefaultRegion()\n",
    "  s3_endpoint = os.environ.get('AWS_S3_ENDPOINT')\n",
    "  bucket_name = os.environ.get('AWS_S3_BUCKET')\n",
    "\n",
    "  print(f'key_id={access_key_id}, secret_key={secret_access_key}')\n",
    "  print(f'default_region={default_region}, s3_endpoint={s3_endpoint}, bucket={bucket_name}')\n",
    "\n",
    "  client: boto3.resource = boto3.resource(\n",
    "    endpoint_url = s3_endpoint,\n",
    "    aws_access_key_id = access_key_id,\n",
    "    aws_secret_access_key = secret_access_key,\n",
    "    region_name = default_region,\n",
    "    service_name = 's3'\n",
    "  )\n",
    "\n",
    "  return S3Env(access_key_id, secret_access_key, s3_endpoint, bucket_name, default_region, client)\n",
    "\n",
    "\n",
    "def upload_file(file_model: BucketMeta):\n",
    "  bucket = file_model.bucket\n",
    "\n",
    "  # Replace the model directory name with the prefix (for the bucket object)\n",
    "  object_name = file_model.file_name.replace(file_model.model_data_dir, file_model.prefix)\n",
    "\n",
    "  print(f'   -> Trying to upload file [{file_model.file_name}] with key [{object_name}] to the bucket [{bucket.name}]...', end=\" \")\n",
    "\n",
    "  detailedErr = None\n",
    "  try:\n",
    "    bucket.upload_file(file_model.file_name, object_name)\n",
    "    print('SUCCESS')\n",
    "  except botocore.exceptions.ClientError as e:\n",
    "    if e.response['Error']['Code'] == 'NoSuchBucket':\n",
    "      detailedErr = 'Bucket NOT FOUND'\n",
    "    elif e.response['Error']['Code'] == 'AccessDenied':\n",
    "      detailedErr = 'Access denied'\n",
    "    else:\n",
    "      detailedErr = f\"Unexpected error: {e}\"\n",
    "  except Exception as e:\n",
    "    detailedErr = f\"Unexpected error: {e}\"\n",
    "\n",
    "    print('FAILURE')\n",
    "    if detailedErr:\n",
    "      print(f\" -->> *** {detailedErr} \")\n",
    "\n",
    "def get_bucket(client: boto3.resource, bucket_name: str):\n",
    "  try:\n",
    "    # client.Bucket(bucket_name)\n",
    "    bucket = client.Bucket(bucket_name)\n",
    "    return bucket\n",
    "    # return bucket in client.buckets.all()\n",
    "  except botocore.exceptions.ClientError as e:\n",
    "    # if e.response['Error']['Code'] == '404':\n",
    "    #   return False\n",
    "    print(f'ClientError:: {e}')\n",
    "    return None\n",
    "  except Exception as e:\n",
    "    print(f'Exception:: {e}')\n",
    "    return None\n",
    "\n",
    "def upload_files(dir_model: BucketMeta):\n",
    "  print(f'Uploading files from [{dir_model.model_data_dir}] directory...')\n",
    "  client = dir_model.client\n",
    "  bucket = get_bucket(client, dir_model.bucket_name)\n",
    "\n",
    "  if bucket and bucket in client.buckets.all():\n",
    "    print(f' -->> Bucket already exists [{dir_model.bucket_name}]')\n",
    "  else:\n",
    "    bucket = client.create_bucket(Bucket = dir_model.bucket_name, CreateBucketConfiguration={'LocationConstraint': getDefaultRegion()})\n",
    "    print(f' -->> Created bucket [{dir_model.bucket_name}]')\n",
    "  \n",
    "  print(f'Bucket details: {bucket}, type={type(bucket)}')\n",
    "\n",
    "  for (dir_path, dirs, files) in os.walk(dir_model.model_data_dir):\n",
    "    print(f'root={dir_path}, dirs={dirs}, files={files}')\n",
    "    for f in files:\n",
    "      if not f.startswith('.'):\n",
    "        file_name = pathlib.Path(dir_path, f)\n",
    "\n",
    "        upload_file(BucketMeta(bucket = bucket,\n",
    "                               file_name=str(file_name),\n",
    "                               prefix=dir_model.prefix,\n",
    "                               model_data_dir=dir_model.model_data_dir))\n",
    "      else:\n",
    "        print(f'   -->> *** File (or dir) [{f}] IGNORED... *** <<--')"
   ]
  }
 ],
 "metadata": {
  "kernelspec": {
   "display_name": "Python 3.9",
   "language": "python",
   "name": "python3"
  },
  "language_info": {
   "codemirror_mode": {
    "name": "ipython",
    "version": 3
   },
   "file_extension": ".py",
   "mimetype": "text/x-python",
   "name": "python",
   "nbconvert_exporter": "python",
   "pygments_lexer": "ipython3",
   "version": "3.9.18"
  }
 },
 "nbformat": 4,
 "nbformat_minor": 5
}
