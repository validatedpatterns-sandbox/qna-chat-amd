{
 "cells": [
  {
   "cell_type": "markdown",
   "id": "e09c673a",
   "metadata": {},
   "source": [
    "## This notebook contains code to:\n",
    " * Download `meta-llama/Llama-3.1-8B-Instruct` model\n",
    " * Upload the downloaded model to MinIO"
   ]
  },
  {
   "cell_type": "markdown",
   "id": "e09c673b",
   "metadata": {},
   "source": [
    "**Install the necessary modules**"
   ]
  },
  {
   "cell_type": "code",
   "execution_count": null,
   "id": "a566325d-e374-4fac-9dbe-e4c31fda8e75",
   "metadata": {
    "tags": []
   },
   "outputs": [],
   "source": [
    "!pip install --upgrade pip\n",
    "!pip install huggingface_hub"
   ]
  },
  {
   "cell_type": "markdown",
   "id": "e09c673c",
   "metadata": {},
   "source": [
    "**Prompt for HuggingFace token**"
   ]
  },
  {
   "cell_type": "code",
   "execution_count": null,
   "id": "43bf487b-567b-4e48-9588-dd8f0bce083c",
   "metadata": {
    "tags": []
   },
   "outputs": [],
   "source": [
    "from huggingface_hub import notebook_login\n",
    "notebook_login()"
   ]
  },
  {
   "cell_type": "markdown",
   "id": "e09c673d",
   "metadata": {},
   "source": [
    "**Download the model**"
   ]
  },
  {
   "cell_type": "code",
   "execution_count": null,
   "id": "ded1d16d-8894-41b8-af5e-3e43f0660154",
   "metadata": {
    "tags": []
   },
   "outputs": [],
   "source": [
    "from huggingface_hub import snapshot_download\n",
    "\n",
    "snapshot_download(repo_id = 'meta-llama/Llama-3.1-8B-Instruct', local_dir='./repos', ignore_patterns=[\"original/*\"])"
   ]
  },
  {
   "cell_type": "markdown",
   "id": "e09c673e",
   "metadata": {},
   "source": [
    "**Upload the model to MinIO**"
   ]
  },
  {
   "cell_type": "code",
   "execution_count": null,
   "id": "b6aa12a1-b844-4516-897f-ca30b5b07e18",
   "metadata": {
    "tags": []
   },
   "outputs": [],
   "source": [
    "# -------------------------------------------------\n",
    "# Import the transfer notebook to upload our pytorch model to minio or AWS S3\n",
    "# -------------------------------------------------\n",
    "\n",
    "# Change the value to \"AWS\" (from \"MINIO\") to transfer the model to AWS S3 instead of MinIO\n",
    "XFER_LOCATION = 'MINIO'\n",
    "\n",
    "if XFER_LOCATION == 'MINIO':\n",
    "  %run ./Xfer-to-minio.ipynb\n",
    "else:\n",
    "  %run ./Xfer-to-aws.ipynb\n",
    "\n",
    "model_dir = \"repos\"\n",
    "prefix = \"Llama-3.1-8B-Instruct\"\n",
    "s3_env: S3Env = init()\n",
    "\n",
    "dir_model = BucketMeta(model_data_dir=model_dir,\n",
    "                       bucket_name='models',\n",
    "                       client=s3_env.client,\n",
    "                       prefix=prefix,\n",
    "                       exclude_dirs_set=['.cache'],\n",
    "                       exclude_files_set=['.gitattributes'])\n",
    "upload_files(dir_model)"
   ]
  }
 ],
 "metadata": {
  "kernelspec": {
   "display_name": "Python 3.9",
   "language": "python",
   "name": "python3"
  },
  "language_info": {
   "codemirror_mode": {
    "name": "ipython",
    "version": 3
   },
   "file_extension": ".py",
   "mimetype": "text/x-python",
   "name": "python",
   "nbconvert_exporter": "python",
   "pygments_lexer": "ipython3",
   "version": "3.9.18"
  }
 },
 "nbformat": 4,
 "nbformat_minor": 5
}
